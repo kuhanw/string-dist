{
 "cells": [
  {
   "cell_type": "code",
   "execution_count": 1,
   "metadata": {
    "collapsed": true
   },
   "outputs": [],
   "source": [
    "import random\n",
    "import string\n",
    "import time\n",
    "import tensorflow as tf\n",
    "import numpy as np\n",
    "from scipy import sparse"
   ]
  },
  {
   "cell_type": "code",
   "execution_count": 2,
   "metadata": {
    "collapsed": true
   },
   "outputs": [],
   "source": [
    "alphabet = string.ascii_lowercase"
   ]
  },
  {
   "cell_type": "code",
   "execution_count": 3,
   "metadata": {
    "collapsed": true
   },
   "outputs": [],
   "source": [
    "#alphabet= 'abc'"
   ]
  },
  {
   "cell_type": "code",
   "execution_count": 4,
   "metadata": {
    "collapsed": true
   },
   "outputs": [],
   "source": [
    "test_min_str_length = 2\n",
    "test_max_str_length = 25"
   ]
  },
  {
   "cell_type": "code",
   "execution_count": 6,
   "metadata": {},
   "outputs": [],
   "source": [
    "list_of_strs = [''.join([alphabet[random.randrange(0, len(alphabet))] \n",
    "        for i in range(random.randrange(test_min_str_length, test_max_str_length))]) for j in range(100000)]"
   ]
  },
  {
   "cell_type": "code",
   "execution_count": 7,
   "metadata": {
    "collapsed": true
   },
   "outputs": [],
   "source": [
    "list_of_chars = set.union(*[set(i) for i in list_of_strs])"
   ]
  },
  {
   "cell_type": "code",
   "execution_count": 8,
   "metadata": {
    "collapsed": true
   },
   "outputs": [],
   "source": [
    "char_dict = {value:idx for idx, value in enumerate(sorted(list_of_chars))}"
   ]
  },
  {
   "cell_type": "code",
   "execution_count": 9,
   "metadata": {
    "collapsed": true
   },
   "outputs": [],
   "source": [
    "char_dict[' '] = max(char_dict.values())+1"
   ]
  },
  {
   "cell_type": "code",
   "execution_count": 10,
   "metadata": {
    "collapsed": true
   },
   "outputs": [],
   "source": [
    "max_length = max([len(i) for i in list_of_strs])"
   ]
  },
  {
   "cell_type": "code",
   "execution_count": 11,
   "metadata": {
    "collapsed": true
   },
   "outputs": [],
   "source": [
    "def onehot_string(x, max_length):\n",
    "    \n",
    "    if x!=x:\n",
    "        return None\n",
    "    \n",
    "    #Pad to max length\n",
    "    while len(x)<max_length:\n",
    "        x+=' '\n",
    "        \n",
    "    sparse_matrix = sparse.hstack([sparse.csr_matrix(\n",
    "        [0 if char_dict[current_char]!=i else 1 for i in range(len(char_dict))]) for current_char in x])\n",
    "    \n",
    "    return sparse_matrix"
   ]
  },
  {
   "cell_type": "code",
   "execution_count": 12,
   "metadata": {
    "collapsed": true
   },
   "outputs": [],
   "source": [
    "start_time = time.time()\n",
    "sparse_strs = sparse.vstack([onehot_string(str_, max_length) for str_ in list_of_strs])\n",
    "end_time = time.time()"
   ]
  },
  {
   "cell_type": "code",
   "execution_count": 13,
   "metadata": {},
   "outputs": [
    {
     "name": "stdout",
     "output_type": "stream",
     "text": [
      "time to generate one hot representation:691 s\n"
     ]
    }
   ],
   "source": [
    "print ('time to generate one hot representation:%.3g s' % (end_time-start_time))"
   ]
  },
  {
   "cell_type": "code",
   "execution_count": 14,
   "metadata": {},
   "outputs": [
    {
     "data": {
      "text/plain": [
       "(100000, 648)"
      ]
     },
     "execution_count": 14,
     "metadata": {},
     "output_type": "execute_result"
    }
   ],
   "source": [
    "sparse_strs.shape"
   ]
  },
  {
   "cell_type": "code",
   "execution_count": 15,
   "metadata": {
    "collapsed": true
   },
   "outputs": [],
   "source": [
    "n_tiles = sparse_strs.shape[0]"
   ]
  },
  {
   "cell_type": "code",
   "execution_count": 16,
   "metadata": {
    "collapsed": true
   },
   "outputs": [],
   "source": [
    "max_length = sparse_strs.shape[1]"
   ]
  },
  {
   "cell_type": "code",
   "execution_count": 17,
   "metadata": {
    "collapsed": true
   },
   "outputs": [],
   "source": [
    "max_str_length = max([len(i) for i in list_of_strs])"
   ]
  },
  {
   "cell_type": "code",
   "execution_count": 18,
   "metadata": {},
   "outputs": [],
   "source": [
    "vector_data = tf.sparse_placeholder(dtype=tf.float32, shape=sparse_strs.shape)"
   ]
  },
  {
   "cell_type": "code",
   "execution_count": 19,
   "metadata": {},
   "outputs": [],
   "source": [
    "indices = np.reshape(np.concatenate(sparse_strs.nonzero()), [2,-1])"
   ]
  },
  {
   "cell_type": "code",
   "execution_count": null,
   "metadata": {
    "collapsed": true
   },
   "outputs": [],
   "source": [
    "#Instead of precomputing can we use a while loop?"
   ]
  },
  {
   "cell_type": "code",
   "execution_count": 20,
   "metadata": {},
   "outputs": [
    {
     "ename": "KeyboardInterrupt",
     "evalue": "",
     "output_type": "error",
     "traceback": [
      "\u001b[1;31m---------------------------------------------------------------------------\u001b[0m",
      "\u001b[1;31mKeyboardInterrupt\u001b[0m                         Traceback (most recent call last)",
      "\u001b[1;32m<ipython-input-20-665ab3af9b66>\u001b[0m in \u001b[0;36m<module>\u001b[1;34m()\u001b[0m\n\u001b[0;32m      7\u001b[0m         \u001b[0mref_tiles\u001b[0m \u001b[1;33m=\u001b[0m \u001b[0mnp\u001b[0m\u001b[1;33m.\u001b[0m\u001b[0mtranspose\u001b[0m\u001b[1;33m(\u001b[0m\u001b[0mcurrent_indices\u001b[0m\u001b[1;33m)\u001b[0m\u001b[1;33m\u001b[0m\u001b[0m\n\u001b[0;32m      8\u001b[0m     \u001b[1;32melse\u001b[0m\u001b[1;33m:\u001b[0m\u001b[1;33m\u001b[0m\u001b[0m\n\u001b[1;32m----> 9\u001b[1;33m         \u001b[0mref_tiles\u001b[0m \u001b[1;33m=\u001b[0m \u001b[0mnp\u001b[0m\u001b[1;33m.\u001b[0m\u001b[0mconcatenate\u001b[0m\u001b[1;33m(\u001b[0m\u001b[1;33m[\u001b[0m\u001b[0mref_tiles\u001b[0m\u001b[1;33m,\u001b[0m \u001b[0mnp\u001b[0m\u001b[1;33m.\u001b[0m\u001b[0mtranspose\u001b[0m\u001b[1;33m(\u001b[0m\u001b[0mcurrent_indices\u001b[0m\u001b[1;33m)\u001b[0m\u001b[1;33m]\u001b[0m\u001b[1;33m)\u001b[0m\u001b[1;33m\u001b[0m\u001b[0m\n\u001b[0m",
      "\u001b[1;31mKeyboardInterrupt\u001b[0m: "
     ]
    }
   ],
   "source": [
    "#Tile reference sparse matrix (this is the b matrix)\n",
    "ref_tiles = []\n",
    "for k in range(sparse_strs.shape[0]):\n",
    "    current_indices = np.concatenate([np.reshape(np.array([k for i in range(indices.shape[1])]), \n",
    "                                                 [1, indices.shape[1]]), indices])   \n",
    "    if k==0:\n",
    "        ref_tiles = np.transpose(current_indices)\n",
    "    else:\n",
    "        ref_tiles = np.concatenate([ref_tiles, np.transpose(current_indices)])"
   ]
  },
  {
   "cell_type": "code",
   "execution_count": null,
   "metadata": {
    "collapsed": true
   },
   "outputs": [],
   "source": [
    "#Tile acting sparse matrix (a matrix)\n",
    "act_tiles = []\n",
    "for k in range(sparse_strs.shape[0]):\n",
    "\n",
    "    str_indices = np.concatenate([sparse_strs.nonzero()[1][k*max_str_length:(k+1)*max_str_length] for i in range(sparse_strs.shape[0])]) \n",
    "\n",
    "    row_indices = np.concatenate([[i for k in range(max_str_length)] for i in range(sparse_strs.shape[0])]) \n",
    "\n",
    "    tiled_array = np.concatenate([np.reshape(row_indices, [row_indices.shape[0], 1]), \n",
    "                np.reshape(str_indices, [str_indices.shape[0], 1])], axis=1)\n",
    "    \n",
    "    current_indices=np.concatenate([np.reshape(np.array([k for i in range(indices.shape[1])]), [indices.shape[1], 1]),\n",
    "                tiled_array], axis=1)\n",
    "    \n",
    "    if k==0:\n",
    "        act_tiles = current_indices\n",
    "    else:\n",
    "        act_tiles = np.concatenate([act_tiles, current_indices])       "
   ]
  },
  {
   "cell_type": "code",
   "execution_count": null,
   "metadata": {},
   "outputs": [],
   "source": [
    "assert ref_tiles.shape == act_tiles.shape"
   ]
  },
  {
   "cell_type": "code",
   "execution_count": null,
   "metadata": {
    "collapsed": true
   },
   "outputs": [],
   "source": [
    "tf.reset_default_graph()"
   ]
  },
  {
   "cell_type": "code",
   "execution_count": null,
   "metadata": {
    "collapsed": true
   },
   "outputs": [],
   "source": [
    "ref_sparse = tf.sparse_placeholder(dtype=tf.float32, shape=[sparse_strs.shape[0]]+ list(sparse_strs.shape))\n",
    "act_sparse = tf.sparse_placeholder(dtype=tf.float32, shape=[sparse_strs.shape[0]]+ list(sparse_strs.shape))"
   ]
  },
  {
   "cell_type": "code",
   "execution_count": null,
   "metadata": {
    "collapsed": true
   },
   "outputs": [],
   "source": [
    "hamming_dists = tf.abs(tf.sparse_add(ref_sparse, act_sparse))"
   ]
  },
  {
   "cell_type": "code",
   "execution_count": null,
   "metadata": {},
   "outputs": [],
   "source": [
    "hamming_dist_sum = tf.sparse_reduce_sum_sparse(hamming_dists, axis=2)"
   ]
  },
  {
   "cell_type": "code",
   "execution_count": null,
   "metadata": {},
   "outputs": [],
   "source": [
    "#nearest_neighbors = tf.nn.top_k(hamming_dist_sum, k=2, sorted=True)"
   ]
  },
  {
   "cell_type": "code",
   "execution_count": null,
   "metadata": {},
   "outputs": [],
   "source": [
    "start_time = time.time()\n",
    "with tf.Session() as sess:\n",
    "    t = sess.run(hamming_dist_sum, {ref_sparse.indices:ref_tiles, \n",
    "                               ref_sparse.values:[1 for i in range(ref_tiles.shape[0])],\n",
    "                                           act_sparse.indices:act_tiles, \n",
    "                               act_sparse.values:[-1 for i in range(act_tiles.shape[0])]})\n",
    "end_time = time.time()"
   ]
  },
  {
   "cell_type": "code",
   "execution_count": null,
   "metadata": {},
   "outputs": [],
   "source": [
    "print('time to process:%.3g s' % (end_time - start_time))"
   ]
  },
  {
   "cell_type": "code",
   "execution_count": 88,
   "metadata": {},
   "outputs": [],
   "source": [
    "rows = t.indices[:,0]\n",
    "cols = t.indices[:,1]\n",
    "data = t.values"
   ]
  },
  {
   "cell_type": "code",
   "execution_count": 89,
   "metadata": {},
   "outputs": [],
   "source": [
    "test = sparse.csr_matrix((data, (rows, cols)), shape=t.dense_shape)"
   ]
  },
  {
   "cell_type": "code",
   "execution_count": 90,
   "metadata": {},
   "outputs": [],
   "source": [
    "args = np.argsort(test.toarray(), axis=-1)"
   ]
  },
  {
   "cell_type": "code",
   "execution_count": 91,
   "metadata": {
    "collapsed": true
   },
   "outputs": [],
   "source": [
    "def map_nearest_neighbor(string_list, top_args, top_values):\n",
    "    \n",
    "    if type(string_list)!=np.array:\n",
    "        string_list = np.array(string_list)\n",
    "    \n",
    "    results = []\n",
    "    values = []\n",
    "    for idx, top_arg in enumerate(top_args):\n",
    "        results.append(string_list[top_arg])\n",
    "        values.append(top_values[idx])\n",
    "    return np.array(results), np.array(values)"
   ]
  },
  {
   "cell_type": "code",
   "execution_count": 92,
   "metadata": {
    "collapsed": true
   },
   "outputs": [],
   "source": [
    "top_args = args[:,:4]"
   ]
  },
  {
   "cell_type": "code",
   "execution_count": 93,
   "metadata": {
    "collapsed": true
   },
   "outputs": [],
   "source": [
    "top_values = test[:,:4].toarray()"
   ]
  },
  {
   "cell_type": "code",
   "execution_count": 94,
   "metadata": {
    "scrolled": true
   },
   "outputs": [],
   "source": [
    "nn_results = map_nearest_neighbor(list_of_strs, top_args, top_values)"
   ]
  },
  {
   "cell_type": "code",
   "execution_count": 95,
   "metadata": {},
   "outputs": [
    {
     "data": {
      "text/plain": [
       "array([['qeeg', 'lcrg', 'qshp', 'tce'],\n",
       "       ['ocebyxaw', 'oyobsqaf', 'tce', 'cjephhaq'],\n",
       "       ['rhsviuu', 'rjsw', 'rusz', 'obcviq'],\n",
       "       ...,\n",
       "       ['fvdngxfwehmwesc', 'whdeogawevjn', 'nlqnwoewztowevqh',\n",
       "        'kvhmykfuet'],\n",
       "       ['xjoianhlilxoxep', 'xampmnhyvtfvdae', 'uxtlarhlhfrws',\n",
       "        'sahivntgiqiuodf'],\n",
       "       ['iogqozpnigzqhbcp', 'qiubcnpzictvlbb', 'iottxipqv',\n",
       "        'ivsqszokwsggcqni']], dtype='<U24')"
      ]
     },
     "execution_count": 95,
     "metadata": {},
     "output_type": "execute_result"
    }
   ],
   "source": [
    "nn_results[0]"
   ]
  },
  {
   "cell_type": "code",
   "execution_count": null,
   "metadata": {
    "collapsed": true
   },
   "outputs": [],
   "source": []
  }
 ],
 "metadata": {
  "kernelspec": {
   "display_name": "Python 3",
   "language": "python",
   "name": "python3"
  },
  "language_info": {
   "codemirror_mode": {
    "name": "ipython",
    "version": 3
   },
   "file_extension": ".py",
   "mimetype": "text/x-python",
   "name": "python",
   "nbconvert_exporter": "python",
   "pygments_lexer": "ipython3",
   "version": "3.6.1"
  }
 },
 "nbformat": 4,
 "nbformat_minor": 2
}
