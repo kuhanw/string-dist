{
 "cells": [
  {
   "cell_type": "code",
   "execution_count": 1,
   "metadata": {},
   "outputs": [],
   "source": [
    "import random\n",
    "import string\n",
    "import time\n",
    "\n",
    "import tensorflow as tf\n",
    "import numpy as np\n",
    "\n",
    "from scipy import sparse\n",
    "\n",
    "def map_nearest_neighbor(string_list, top_args, sim_matrix):\n",
    "    \n",
    "    if type(string_list)!=np.array:\n",
    "        string_list = np.array(string_list)\n",
    "    \n",
    "    results = []\n",
    "    values = []\n",
    "    for idx, top_arg in enumerate(top_args):\n",
    "        results.append(string_list[top_arg])\n",
    "        values.append(sim_matrix[idx].toarray()[0][top_arg])\n",
    "        \n",
    "    return np.array(results), np.array(values)\n",
    "\n",
    "\n",
    "\n",
    "def onehot_string(x, max_length):\n",
    "    \n",
    "    if x!=x:\n",
    "        return None\n",
    "    \n",
    "    #Pad to max length\n",
    "    while len(x)<max_length:\n",
    "        x+='<'\n",
    "        \n",
    "    sparse_matrix = sparse.hstack([sparse.csr_matrix(\n",
    "        [0 if char_dict[current_char]!=i else 1 for i in range(len(char_dict))]) for current_char in x])\n",
    "    \n",
    "    return sparse_matrix"
   ]
  },
  {
   "cell_type": "code",
   "execution_count": 2,
   "metadata": {},
   "outputs": [],
   "source": [
    "alphabet = string.ascii_lowercase\n",
    "#alphabet= 'abc'"
   ]
  },
  {
   "cell_type": "code",
   "execution_count": 3,
   "metadata": {},
   "outputs": [],
   "source": [
    "test_min_str_length = 2\n",
    "test_max_str_length = 25\n",
    "num_of_entries = 1000"
   ]
  },
  {
   "cell_type": "code",
   "execution_count": 4,
   "metadata": {},
   "outputs": [],
   "source": [
    "list_of_strs = [''.join([alphabet[random.randrange(0, len(alphabet))] \n",
    "        for i in range(random.randrange(test_min_str_length, test_max_str_length))]) for j in range(num_of_entries)]"
   ]
  },
  {
   "cell_type": "code",
   "execution_count": 5,
   "metadata": {},
   "outputs": [],
   "source": [
    "list_of_chars = set.union(*[set(i) for i in list_of_strs])"
   ]
  },
  {
   "cell_type": "code",
   "execution_count": 6,
   "metadata": {},
   "outputs": [],
   "source": [
    "char_dict = {value:idx for idx, value in enumerate(sorted(list_of_chars))}"
   ]
  },
  {
   "cell_type": "code",
   "execution_count": 7,
   "metadata": {},
   "outputs": [],
   "source": [
    "char_dict['<'] = max(char_dict.values())+1"
   ]
  },
  {
   "cell_type": "code",
   "execution_count": 8,
   "metadata": {},
   "outputs": [],
   "source": [
    "max_length = max([len(i) for i in list_of_strs])"
   ]
  },
  {
   "cell_type": "code",
   "execution_count": 9,
   "metadata": {},
   "outputs": [],
   "source": [
    "start_time = time.time()\n",
    "sparse_strs = sparse.vstack([onehot_string(str_, max_length) for str_ in list_of_strs])\n",
    "end_time = time.time()"
   ]
  },
  {
   "cell_type": "code",
   "execution_count": 10,
   "metadata": {},
   "outputs": [],
   "source": [
    "sparse_strs = sparse_strs.tocsr()"
   ]
  },
  {
   "cell_type": "code",
   "execution_count": 11,
   "metadata": {},
   "outputs": [
    {
     "name": "stdout",
     "output_type": "stream",
     "text": [
      "time to generate one hot representation:7.44 s\n"
     ]
    }
   ],
   "source": [
    "print ('time to generate one hot representation:%.3g s' % (end_time-start_time))"
   ]
  },
  {
   "cell_type": "code",
   "execution_count": 12,
   "metadata": {},
   "outputs": [
    {
     "name": "stdout",
     "output_type": "stream",
     "text": [
      "size of matrix to operate on: (1000, 648)\n"
     ]
    }
   ],
   "source": [
    "print('size of matrix to operate on:', sparse_strs.shape)"
   ]
  },
  {
   "cell_type": "code",
   "execution_count": 13,
   "metadata": {},
   "outputs": [],
   "source": [
    "n_tiles = sparse_strs.shape[0]"
   ]
  },
  {
   "cell_type": "code",
   "execution_count": 14,
   "metadata": {},
   "outputs": [],
   "source": [
    "max_length = sparse_strs.shape[1]"
   ]
  },
  {
   "cell_type": "code",
   "execution_count": 15,
   "metadata": {},
   "outputs": [],
   "source": [
    "max_str_length = max([len(i) for i in list_of_strs])"
   ]
  },
  {
   "cell_type": "code",
   "execution_count": 16,
   "metadata": {},
   "outputs": [],
   "source": [
    "tf.reset_default_graph()"
   ]
  },
  {
   "cell_type": "code",
   "execution_count": 17,
   "metadata": {},
   "outputs": [],
   "source": [
    "ref_sparse = tf.sparse_placeholder(dtype=tf.float32, shape=[sparse_strs.shape[0]]+ list(sparse_strs.shape))\n",
    "act_sparse = tf.sparse_placeholder(dtype=tf.float32, shape=[sparse_strs.shape[0]]+ list(sparse_strs.shape))"
   ]
  },
  {
   "cell_type": "code",
   "execution_count": 18,
   "metadata": {},
   "outputs": [],
   "source": [
    "hamming_dists = tf.abs(tf.sparse_add(ref_sparse, act_sparse))"
   ]
  },
  {
   "cell_type": "code",
   "execution_count": 19,
   "metadata": {},
   "outputs": [],
   "source": [
    "hamming_dist_sum = tf.sparse_reduce_sum_sparse(hamming_dists, axis=2)"
   ]
  },
  {
   "cell_type": "code",
   "execution_count": 20,
   "metadata": {},
   "outputs": [],
   "source": [
    "#nearest_neighbors = tf.nn.top_k(hamming_dist_sum, k=2, sorted=True)"
   ]
  },
  {
   "cell_type": "code",
   "execution_count": 21,
   "metadata": {},
   "outputs": [],
   "source": [
    "indices = np.reshape(np.concatenate(sparse_strs.nonzero()), [2, -1])"
   ]
  },
  {
   "cell_type": "code",
   "execution_count": 22,
   "metadata": {},
   "outputs": [],
   "source": [
    "ref_tile_indices = []\n",
    "for row in range(sparse_strs.shape[0]):\n",
    "    a0=time.time()\n",
    "    np_concat = np.concatenate([[[row for i in range(indices.shape[1])]], indices])\n",
    "    a1=time.time()\n",
    "    current_slice = np.transpose(np_concat)\n",
    "    a2=time.time()\n",
    "    #print (a2-a1, a1-a0)\n",
    "    ref_tile_indices.append(current_slice)"
   ]
  },
  {
   "cell_type": "code",
   "execution_count": 23,
   "metadata": {},
   "outputs": [],
   "source": [
    "ref_tile_indices = np.concatenate(ref_tile_indices)"
   ]
  },
  {
   "cell_type": "code",
   "execution_count": 24,
   "metadata": {
    "scrolled": true
   },
   "outputs": [],
   "source": [
    "act_tile_indices = []\n",
    "for row in range(sparse_strs.shape[0]):\n",
    "    start_time = time.time()    \n",
    "    rows, cols = sparse_strs.shape\n",
    "    current_row = sparse.csr_matrix((np.tile(sparse_strs[row].data, sparse_strs.shape[0]), \n",
    "                                     np.tile(sparse_strs[row].indices, sparse_strs.shape[0]),\n",
    "                           np.arange(0, rows*sparse_strs[row].nnz + 1, sparse_strs[row].nnz)), \n",
    "                                    shape=sparse_strs.shape)\n",
    "    end_time_0 = time.time()\n",
    "    #current_row = sparse.vstack(t)\n",
    "    end_time_1 = time.time()\n",
    "    current_row = np.reshape(np.concatenate(current_row.nonzero()), [2, -1])\n",
    "    end_time_2 = time.time()\n",
    "    concate = np.concatenate([[[row for i in range(indices.shape[1])]], current_row])\n",
    "    end_time_3 = time.time()\n",
    "    current_slice = np.transpose(concate)\n",
    "    end_time_4 = time.time()\n",
    "    #print (end_time_0-start_time, end_time_1-end_time_0, end_time_2-end_time_1, end_time_3-end_time_2)\n",
    "    act_tile_indices.append(current_slice)"
   ]
  },
  {
   "cell_type": "code",
   "execution_count": 25,
   "metadata": {},
   "outputs": [],
   "source": [
    "act_tile_indices = np.concatenate(act_tile_indices)"
   ]
  },
  {
   "cell_type": "code",
   "execution_count": 26,
   "metadata": {},
   "outputs": [],
   "source": [
    "assert act_tile_indices.shape == act_tile_indices.shape"
   ]
  },
  {
   "cell_type": "code",
   "execution_count": 31,
   "metadata": {},
   "outputs": [],
   "source": [
    "payload_dict = {\n",
    "               ref_sparse.indices:ref_tile_indices, \n",
    "               ref_sparse.values:np.ones(act_tile_indices.shape[0]),\n",
    "               act_sparse.indices:act_tile_indices, \n",
    "               act_sparse.values:-1*np.ones(act_tile_indices.shape[0])\n",
    "               }"
   ]
  },
  {
   "cell_type": "code",
   "execution_count": 32,
   "metadata": {},
   "outputs": [],
   "source": [
    "start_time = time.time()\n",
    "with tf.Session() as sess:\n",
    "    t = sess.run(hamming_dist_sum, payload_dict)\n",
    "end_time = time.time()"
   ]
  },
  {
   "cell_type": "code",
   "execution_count": 33,
   "metadata": {},
   "outputs": [
    {
     "name": "stdout",
     "output_type": "stream",
     "text": [
      "time to process:54.7 s\n"
     ]
    }
   ],
   "source": [
    "print('time to process:%.3g s' % (end_time - start_time))"
   ]
  },
  {
   "cell_type": "code",
   "execution_count": 34,
   "metadata": {},
   "outputs": [],
   "source": [
    "rows = t.indices[:,0]\n",
    "cols = t.indices[:,1]\n",
    "data = t.values"
   ]
  },
  {
   "cell_type": "code",
   "execution_count": 36,
   "metadata": {},
   "outputs": [],
   "source": [
    "sim_matrix = sparse.csr_matrix((data, (rows, cols)), shape=t.dense_shape)"
   ]
  },
  {
   "cell_type": "code",
   "execution_count": 37,
   "metadata": {},
   "outputs": [],
   "source": [
    "args = np.argsort(sim_matrix.toarray(), axis=-1)"
   ]
  },
  {
   "cell_type": "code",
   "execution_count": 38,
   "metadata": {},
   "outputs": [],
   "source": [
    "top_args = args[:,:4]"
   ]
  },
  {
   "cell_type": "code",
   "execution_count": 48,
   "metadata": {
    "scrolled": true
   },
   "outputs": [],
   "source": [
    "nn_results = map_nearest_neighbor(list_of_strs, top_args, sim_matrix)"
   ]
  }
 ],
 "metadata": {
  "kernelspec": {
   "display_name": "Python 3",
   "language": "python",
   "name": "python3"
  },
  "language_info": {
   "codemirror_mode": {
    "name": "ipython",
    "version": 3
   },
   "file_extension": ".py",
   "mimetype": "text/x-python",
   "name": "python",
   "nbconvert_exporter": "python",
   "pygments_lexer": "ipython3",
   "version": "3.5.4"
  }
 },
 "nbformat": 4,
 "nbformat_minor": 2
}
