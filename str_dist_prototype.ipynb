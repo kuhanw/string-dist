{
 "cells": [
  {
   "cell_type": "code",
   "execution_count": 48,
   "metadata": {},
   "outputs": [],
   "source": [
    "import random\n",
    "import string\n",
    "import time\n",
    "from scipy import sparse"
   ]
  },
  {
   "cell_type": "code",
   "execution_count": 7,
   "metadata": {},
   "outputs": [],
   "source": [
    "list_of_strs = [[string.ascii_lowercase[random.randrange(0, 26)] for i in range(random.randrange(5, 20))] for j in range(1000)]"
   ]
  },
  {
   "cell_type": "code",
   "execution_count": 11,
   "metadata": {},
   "outputs": [],
   "source": [
    "list_of_chars = set.union(*[set(i) for i in list_of_strs])"
   ]
  },
  {
   "cell_type": "code",
   "execution_count": 36,
   "metadata": {},
   "outputs": [],
   "source": [
    "char_dict = {value:idx for idx, value in enumerate(sorted(list_of_chars))}"
   ]
  },
  {
   "cell_type": "code",
   "execution_count": 39,
   "metadata": {},
   "outputs": [],
   "source": [
    "char_dict[' '] = max(char_dict.values())+1"
   ]
  },
  {
   "cell_type": "code",
   "execution_count": 40,
   "metadata": {},
   "outputs": [],
   "source": [
    "max_length = max([len(i) for i in list_of_strs])"
   ]
  },
  {
   "cell_type": "code",
   "execution_count": 41,
   "metadata": {},
   "outputs": [],
   "source": [
    "def onehot_string(x, max_length):\n",
    "    \n",
    "    if x!=x:\n",
    "        return None\n",
    "    \n",
    "    #Pad to max length\n",
    "    while len(x)<max_length:\n",
    "        x+=' '\n",
    "        \n",
    "    sparse_matrix = sparse.hstack([sparse.csr_matrix([0 if char_dict[current_char]!=i else 1 for i in range(len(char_dict))]) for current_char in x])\n",
    "    \n",
    "    return sparse_matrix"
   ]
  },
  {
   "cell_type": "code",
   "execution_count": 49,
   "metadata": {},
   "outputs": [],
   "source": [
    "start_time = time.time()\n",
    "sparse_strs = sparse.vstack([onehot_string(str_, max_length) for str_ in list_of_strs])\n",
    "end_time = time.time()"
   ]
  },
  {
   "cell_type": "code",
   "execution_count": null,
   "metadata": {
    "collapsed": true
   },
   "outputs": [],
   "source": []
  }
 ],
 "metadata": {
  "kernelspec": {
   "display_name": "Python 3",
   "language": "python",
   "name": "python3"
  },
  "language_info": {
   "codemirror_mode": {
    "name": "ipython",
    "version": 3
   },
   "file_extension": ".py",
   "mimetype": "text/x-python",
   "name": "python",
   "nbconvert_exporter": "python",
   "pygments_lexer": "ipython3",
   "version": "3.6.1"
  }
 },
 "nbformat": 4,
 "nbformat_minor": 2
}
